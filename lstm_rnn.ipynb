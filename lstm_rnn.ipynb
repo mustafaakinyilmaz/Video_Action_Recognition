{
 "cells": [
  {
   "cell_type": "code",
   "execution_count": 10,
   "metadata": {},
   "outputs": [
    {
     "data": {
      "text/plain": [
       "<torch._C.Generator at 0x19cd8c82a30>"
      ]
     },
     "execution_count": 10,
     "metadata": {},
     "output_type": "execute_result"
    }
   ],
   "source": [
    "import torch\n",
    "import torch.nn as nn\n",
    "import pandas as pd\n",
    "import numpy as np\n",
    "from torch.autograd import Variable\n",
    "trunck_size = 1\n",
    "device = torch.device(\"cpu\")\n",
    "np.random.seed(321)\n",
    "torch.manual_seed(123) \n"
   ]
  },
  {
   "cell_type": "code",
   "execution_count": 11,
   "metadata": {},
   "outputs": [
    {
     "name": "stdout",
     "output_type": "stream",
     "text": [
      "[[-1.8 -3.8 -1.2 -2.8 -2.8  3.2  6.   4.8  6.2  7.8  7.4  8.4]]\n"
     ]
    }
   ],
   "source": [
    "X_train = np.array(list(range(-150,150,1))) / 100\n",
    "index = np.random.permutation(len(X_train))\n",
    "X_train = X_train[index].reshape(1,-1)\n",
    "Y_train = np.zeros((1,X_train.shape[1]))\n",
    "for k in range(X_train.shape[1]):\n",
    "    Y_train[0,k] = ((X_train[0,0:k+1].sum()))\n",
    "\n",
    "X_test = np.array([-9,-10,13,-8,0,30,14,-6,7,8,-2,5]).reshape(1,-1) / 5\n",
    "Y_test = np.zeros((1,X_test.shape[1]))\n",
    "for k in range(X_test.shape[1]):\n",
    "    Y_test[0,k] = ((X_test[0,0:k+1].sum()))\n",
    "\n",
    "print(Y_test)"
   ]
  },
  {
   "cell_type": "code",
   "execution_count": 12,
   "metadata": {},
   "outputs": [],
   "source": [
    "class LSTMCell(nn.Module):\n",
    "    def __init__(self, flatten_dim, hidden_size, bias):\n",
    "        super(LSTMCell, self).__init__()\n",
    "    \n",
    "        self.flatten_dim = flatten_dim\n",
    "        self.hidden_size = hidden_size\n",
    "\n",
    "        self.bias        = bias\n",
    "        \n",
    "        self.i2h = nn.Linear(flatten_dim, 4*hidden_size, bias=bias)\n",
    "        self.h2h = nn.Linear(hidden_size, 4*hidden_size, bias=bias)\n",
    "        \n",
    " \n",
    "        \n",
    "    def forward(self, x, cur_state):\n",
    "        \n",
    "        if cur_state is None:\n",
    "            cur_state = (Variable(torch.zeros(1, self.hidden_size)).to(device).float(),\n",
    "                Variable(torch.zeros(1, self.hidden_size)).to(device).float())\n",
    "        \n",
    "        x = x.view(1,-1)\n",
    "        c_cur, h_cur = cur_state\n",
    "        preact = self.i2h(x) + self.h2h(h_cur)\n",
    "        #print(preact.size())\n",
    "        ingate, forgetgate, cellgate, outgate = preact.chunk(4, 1)\n",
    "        \n",
    "        \n",
    "        ingate = torch.sigmoid(ingate)\n",
    "        forgetgate = torch.sigmoid(forgetgate)\n",
    "        cellgate = torch.tanh(cellgate)\n",
    "        outgate = torch.sigmoid(outgate)\n",
    "        \n",
    "        c_next = (forgetgate * c_cur) + (ingate * cellgate)\n",
    "        h_next = outgate * torch.tanh(c_next)\n",
    "        \n",
    "        next_state = (c_next,h_next)\n",
    "        \n",
    "        #softmax_out = F.softmax(self.linear(h_next.view(1,-1)),dim=1)\n",
    "        \n",
    "        return next_state\n",
    "\n",
    "class RNNCell(nn.Module):\n",
    "    def __init__(self, flatten_dim, hidden_size, bias):\n",
    "        super(RNNCell, self).__init__()\n",
    "    \n",
    "        self.flatten_dim = flatten_dim\n",
    "        self.hidden_size = hidden_size\n",
    "\n",
    "        self.bias        = bias\n",
    "        \n",
    "        self.i2h = nn.Linear(flatten_dim, hidden_size, bias=bias)\n",
    "        self.h2h = nn.Linear(hidden_size, hidden_size, bias=bias)\n",
    "        \n",
    "    def forward(self,x,cur_h):\n",
    "        \n",
    "        if cur_h is None:\n",
    "            cur_h = Variable(torch.zeros(1, self.hidden_size)).to(device).float()\n",
    "        \n",
    "        act = self.i2h(x) + self.h2h(cur_h)\n",
    "        \n",
    "        next_h = torch.tanh(act)\n",
    "        \n",
    "        return next_h\n",
    "        "
   ]
  },
  {
   "cell_type": "code",
   "execution_count": 13,
   "metadata": {},
   "outputs": [],
   "source": [
    "class Model(nn.Module):\n",
    "    def __init__(self):\n",
    "        super(Model, self).__init__() \n",
    "        self.lstm1 = LSTMCell(1,1,True)\n",
    "        #self.lstm2 = LSTMCell(4,4,True)\n",
    "        self.lin1 = nn.Linear(in_features=1,out_features=1,bias=True)\n",
    "        #self.rel = nn.Sigmoid()\n",
    "        #self.drop = nn.Dropout(p=0.00)\n",
    "        #self.lin2 = nn.Linear(in_features=1,out_features=1,bias=True)\n",
    "        \n",
    "    def forward(self,x,state1):\n",
    "        c1,h1 = self.lstm1(x,state1)\n",
    "        #c2,h2 = self.lstm2(h1,state2)\n",
    "        out = self.lin1(h1)\n",
    "        #r1 = self.rel(l1)\n",
    "        #d1 = self.drop(r1)\n",
    "        #out = self.lin2(d1)\n",
    "        next_state1 = (c1,h1)\n",
    "        #next_state2 = (c2,h2)\n",
    "        return next_state1,out\n",
    "\n",
    "class ModelR(nn.Module):\n",
    "    def __init__(self):\n",
    "        super(ModelR, self).__init__() \n",
    "        self.rnn1 = RNNCell(1,1,True)\n",
    "        self.lin1 = nn.Linear(in_features=1,out_features=1,bias=True)\n",
    "\n",
    "    def forward(self,x,state1):\n",
    "        h1 = self.rnn1(x,state1)\n",
    "        out = self.lin1(h1)\n",
    "        \n",
    "        next_state1 = h1\n",
    "        return next_state1,out"
   ]
  },
  {
   "cell_type": "code",
   "execution_count": 14,
   "metadata": {},
   "outputs": [],
   "source": [
    "model = Model().to(device).float()\n",
    "optimizer = torch.optim.RMSprop(model.parameters(),lr=1.e-3)\n",
    "\n",
    "\n",
    "# In[26]:\n",
    "\n",
    "\n",
    "modelr = ModelR().to(device).float()\n",
    "optimizerr = torch.optim.RMSprop(modelr.parameters(),lr=1.e-3)\n"
   ]
  },
  {
   "cell_type": "code",
   "execution_count": 15,
   "metadata": {},
   "outputs": [],
   "source": [
    "def calculate_loss(out,real,mdl,tr_test):\n",
    "    \n",
    "    l1_reg = None\n",
    "    l2_reg = None\n",
    "    \n",
    "    for W in mdl.parameters():\n",
    "        if l1_reg is None:\n",
    "            l1_reg = W.norm(1)\n",
    "        else:\n",
    "            l1_reg = l1_reg + W.norm(1)\n",
    "            \n",
    "        if l2_reg is None:\n",
    "            l2_reg = W.norm(2)\n",
    "        else:\n",
    "            l2_reg = l2_reg + W.norm(2)\n",
    "    \n",
    "    l1_lambda = 0.00\n",
    "    l2_lambda = 0.00\n",
    "    if tr_test == \"train\":\n",
    "        loss = ((out-real)**2).sum() + l2_lambda*l2_reg + l1_lambda*l1_reg\n",
    "    if tr_test == \"test\" :\n",
    "        loss = torch.sum((out-real)**2)\n",
    "    return loss"
   ]
  },
  {
   "cell_type": "code",
   "execution_count": 16,
   "metadata": {},
   "outputs": [],
   "source": [
    "def train(m,opt):\n",
    "    m = m.train()\n",
    "    #epoch_loss = 0.0\n",
    "    out_list = []\n",
    "    \n",
    "    state1 = None\n",
    "        \n",
    "    for trunck in range(0,X_train.shape[1],trunck_size):\n",
    "        X_trunck = X_train[:,trunck:trunck+trunck_size]\n",
    "        Y_trunck = Y_train[:,trunck:trunck+trunck_size]\n",
    "            \n",
    "        \"\"\"if state1 is not None:\n",
    "            state1 = (Variable(state1[0].data),Variable(state1[1].data))\"\"\"\n",
    "            \n",
    "        if state1 is not None:\n",
    "            state1 = Variable(state1.data)\n",
    "                \n",
    "        #state1 = None\n",
    "\n",
    "        trunck_loss = 0.0\n",
    "        for k in range(X_trunck.shape[1]):\n",
    "            inp = X_trunck[:,k:k+1]\n",
    "            real = Y_trunck[:,k:k+1]\n",
    "            inp = torch.from_numpy(inp).to(device).float()\n",
    "            real = torch.from_numpy(real).to(device).float()\n",
    "            state1,out = m.forward(inp,state1)\n",
    "            loss = calculate_loss(out,real,m,\"train\")\n",
    "            trunck_loss += loss\n",
    "            out_list.append(out.item())\n",
    "            #epoch_loss += loss.item()\n",
    "        opt.zero_grad()\n",
    "        av_trunck_loss = trunck_loss / X_trunck.shape[1]\n",
    "        av_trunck_loss.backward()\n",
    "        opt.step()\n",
    "            \n",
    "       \n",
    "    epoch_loss = (((np.array(out_list)-Y_train)**2).sum())    \n",
    "    \n",
    "    return epoch_loss,out_list"
   ]
  },
  {
   "cell_type": "code",
   "execution_count": 17,
   "metadata": {},
   "outputs": [],
   "source": [
    "def test1(m):\n",
    "    m = m.eval()\n",
    "    out_list = []\n",
    "\n",
    "    state1 = None\n",
    "        \n",
    "    for k in range(X_test.shape[1]):\n",
    "        inp = X_test[:,k:k+1]\n",
    "        real = Y_test[:,k:k+1]\n",
    "        inp = torch.from_numpy(inp).to(device).float()\n",
    "        real = torch.from_numpy(real).to(device).float()\n",
    "        state1,out = m.forward(inp,state1)\n",
    "        loss = calculate_loss(out,real,m,\"test\")\n",
    "        out_list.append(out.item())\n",
    "        \n",
    "    epoch_loss = (((np.array(out_list)-Y_test)**2).sum())   \n",
    "    \n",
    "    return epoch_loss,out_list\n",
    "\n",
    "def test2(m):\n",
    "    m = m.eval()\n",
    "    out_list = []\n",
    "\n",
    "    state1 = None\n",
    "        \n",
    "    for k in range(X_train.shape[1]):\n",
    "        inp = X_train[:,k:k+1]\n",
    "        real = Y_train[:,k:k+1]\n",
    "        inp = torch.from_numpy(inp).to(device).float()\n",
    "        real = torch.from_numpy(real).to(device).float()\n",
    "        state1,out = m.forward(inp,state1)\n",
    "        loss = calculate_loss(out,real,m,\"test\")\n",
    "        out_list.append(out.item())\n",
    "    epoch_loss = (((np.array(out_list)-Y_train)**2).sum()) \n",
    "    return epoch_loss,out_list"
   ]
  },
  {
   "cell_type": "code",
   "execution_count": null,
   "metadata": {},
   "outputs": [
    {
     "name": "stdout",
     "output_type": "stream",
     "text": [
      "epoch: 400\n",
      "train loss: 1473.17285401\n",
      "test loss: 37.4767455048\n",
      "***\n",
      "epoch: 800\n",
      "train loss: 937.201117927\n",
      "test loss: 26.4614719602\n",
      "***\n",
      "epoch: 1200\n",
      "train loss: 863.642201365\n",
      "test loss: 41.1697898841\n",
      "***\n"
     ]
    }
   ],
   "source": [
    "for epoch in range(1,8001,1):\n",
    "    epoch_loss,out = train(modelr,optimizerr)\n",
    "    test_loss,test_out = test1(modelr)\n",
    "    if epoch % 400 == 0:\n",
    "        print(\"epoch: \"+str(epoch))\n",
    "        print(\"train loss: \"+str(epoch_loss))\n",
    "        print(\"test loss: \"+str(test_loss))\n",
    "        print(\"***\")\n"
   ]
  },
  {
   "cell_type": "code",
   "execution_count": null,
   "metadata": {},
   "outputs": [],
   "source": [
    "test_loss,test_out = test1(modelr)\n",
    "\n",
    "\n",
    "print(np.array(test_out))\n",
    "print(Y_test)\n",
    "print(test_loss)"
   ]
  },
  {
   "cell_type": "code",
   "execution_count": null,
   "metadata": {},
   "outputs": [],
   "source": [
    "tr_loss,tr_out = test2(modelr)\n",
    "\n",
    "print(np.array(tr_out))\n",
    "print(Y_train)\n",
    "print(tr_loss)\n",
    "\n"
   ]
  },
  {
   "cell_type": "code",
   "execution_count": null,
   "metadata": {},
   "outputs": [],
   "source": [
    "((Y_train-tr_out)**2).sum()"
   ]
  },
  {
   "cell_type": "code",
   "execution_count": null,
   "metadata": {},
   "outputs": [],
   "source": [
    "a = torch.ones(2,2) -10\n",
    "a.sum()\n"
   ]
  },
  {
   "cell_type": "code",
   "execution_count": null,
   "metadata": {},
   "outputs": [],
   "source": []
  }
 ],
 "metadata": {
  "kernelspec": {
   "display_name": "Python 3",
   "language": "python",
   "name": "python3"
  },
  "language_info": {
   "codemirror_mode": {
    "name": "ipython",
    "version": 3
   },
   "file_extension": ".py",
   "mimetype": "text/x-python",
   "name": "python",
   "nbconvert_exporter": "python",
   "pygments_lexer": "ipython3",
   "version": "3.5.5"
  }
 },
 "nbformat": 4,
 "nbformat_minor": 2
}
